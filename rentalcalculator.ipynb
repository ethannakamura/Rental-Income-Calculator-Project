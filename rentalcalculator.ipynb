{
 "cells": [
  {
   "cell_type": "markdown",
   "metadata": {},
   "source": [
    "Here we assume that we have a client coming to us asking for an automated Rental Property Calculator. Our client's name is Brandon from a company called \"Bigger Pockets\". Below, you will find a video of what Brandon usually does to calculate his Rental Property ROI.\n",
    "\n",
    "Using Visual Studio Code/Jupyter Notebook, and Object Oriented Programming create a program that will calculate the Return on Investment(ROI) for a rental property.\n",
    "\n",
    "This project will be completed individually, though you can feel free to share ideas with your fellow students.\n",
    "\n",
    "Once completed, commit the project to github and submit the link to this assignment."
   ]
  },
  {
   "cell_type": "code",
   "execution_count": null,
   "metadata": {},
   "outputs": [],
   "source": []
  }
 ],
 "metadata": {
  "language_info": {
   "name": "python"
  },
  "orig_nbformat": 4
 },
 "nbformat": 4,
 "nbformat_minor": 2
}
